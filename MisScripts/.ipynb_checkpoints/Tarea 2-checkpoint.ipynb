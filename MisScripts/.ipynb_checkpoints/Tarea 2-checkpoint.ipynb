{
 "cells": [
  {
   "cell_type": "markdown",
   "metadata": {},
   "source": [
    "# Ejercicio 1\n",
    "Escribe una secuencia de instrucciones que permitan leer un número real por pantalla y que muestre si el número es positivo o no."
   ]
  },
  {
   "cell_type": "code",
   "execution_count": 33,
   "metadata": {},
   "outputs": [],
   "source": [
    "import math"
   ]
  },
  {
   "cell_type": "code",
   "execution_count": 10,
   "metadata": {},
   "outputs": [],
   "source": [
    "%config IPCompleter.greedy=True"
   ]
  },
  {
   "cell_type": "code",
   "execution_count": 5,
   "metadata": {},
   "outputs": [],
   "source": [
    "# Funcion que me permite saber si un numero es positivo, negativo o cero\n",
    "def SignoNumero():\n",
    "    numero = int(input(\"Ingrese un numero\"))\n",
    "    if numero > 0:\n",
    "        return \"El numero es positivo\"\n",
    "    elif numero < 0:\n",
    "        return \"El numero es negativo\"\n",
    "    else:\n",
    "        return \"El numero es 0\"\n",
    "    "
   ]
  },
  {
   "cell_type": "code",
   "execution_count": 6,
   "metadata": {},
   "outputs": [
    {
     "name": "stdout",
     "output_type": "stream",
     "text": [
      "Ingrese un numero10\n"
     ]
    },
    {
     "data": {
      "text/plain": [
       "'El numero es positivo'"
      ]
     },
     "execution_count": 6,
     "metadata": {},
     "output_type": "execute_result"
    }
   ],
   "source": [
    "LeerNumero()"
   ]
  },
  {
   "cell_type": "code",
   "execution_count": 7,
   "metadata": {},
   "outputs": [
    {
     "name": "stdout",
     "output_type": "stream",
     "text": [
      "Ingrese un numero-1\n"
     ]
    },
    {
     "data": {
      "text/plain": [
       "'El numero es negativo'"
      ]
     },
     "execution_count": 7,
     "metadata": {},
     "output_type": "execute_result"
    }
   ],
   "source": [
    "LeerNumero()"
   ]
  },
  {
   "cell_type": "code",
   "execution_count": 8,
   "metadata": {},
   "outputs": [
    {
     "name": "stdout",
     "output_type": "stream",
     "text": [
      "Ingrese un numero0\n"
     ]
    },
    {
     "data": {
      "text/plain": [
       "'El numero es 0'"
      ]
     },
     "execution_count": 8,
     "metadata": {},
     "output_type": "execute_result"
    }
   ],
   "source": [
    "LeerNumero()"
   ]
  },
  {
   "cell_type": "markdown",
   "metadata": {},
   "source": [
    "# Ejercicio 2\n",
    "Escribe una secuencia de instrucciones que permitan leer un número real por pantalla y que muestre si el número está en el rango entre -5 y 5"
   ]
  },
  {
   "cell_type": "code",
   "execution_count": 16,
   "metadata": {},
   "outputs": [],
   "source": [
    "# Funcion que permite saber si un numero esta entre el rango [-5, 5]\n",
    "def RangoNumero():\n",
    "    num = int(input(\"Digite un numero\"))\n",
    "    if num < -5 or num > 5:\n",
    "        return \"El numero \"+ str(num)+\" NO se encuentra dentro del rango [-5, 5]\"\n",
    "    else:\n",
    "        return \"El numero \"+ str(num)+\" se encuentra dentro del rango [-5, 5]\"\n",
    "    "
   ]
  },
  {
   "cell_type": "code",
   "execution_count": 18,
   "metadata": {},
   "outputs": [
    {
     "name": "stdout",
     "output_type": "stream",
     "text": [
      "Digite un numero10\n"
     ]
    },
    {
     "data": {
      "text/plain": [
       "'El numero 10 NO se encuentra dentro del rango [-5, 5]'"
      ]
     },
     "execution_count": 18,
     "metadata": {},
     "output_type": "execute_result"
    }
   ],
   "source": [
    "RangoNumero()"
   ]
  },
  {
   "cell_type": "markdown",
   "metadata": {},
   "source": [
    "# Ejercicio 3\n",
    "Escribe una secuencia de instrucciones que permitan leer las coordenadas de un punto (x, y) e indique en cuál de los cuatro cuadrantes se encuentra dicho punto."
   ]
  },
  {
   "cell_type": "code",
   "execution_count": 19,
   "metadata": {},
   "outputs": [],
   "source": [
    "# Encontrar el cuadrante de un punto dentro del mapa carteciano.\n",
    "def CuadrantePunto(x, y):\n",
    "    if x <= 0 and y >= 0:\n",
    "        return \"El punto se encuentra en el cuadrante 1\"\n",
    "    elif x >= 0 and y >= 0:\n",
    "        return \"El punto se encuentra en el cuadrante 2\"\n",
    "    elif x <= 0 and y <= 0:\n",
    "        return \"El punto se encuentra en el cuadrante 3\"\n",
    "    else:\n",
    "        return \"El punto se encuentra en el cuadrante 4\""
   ]
  },
  {
   "cell_type": "code",
   "execution_count": 25,
   "metadata": {},
   "outputs": [
    {
     "data": {
      "text/plain": [
       "'El punto se encuentra en el cuadrante 4'"
      ]
     },
     "execution_count": 25,
     "metadata": {},
     "output_type": "execute_result"
    }
   ],
   "source": [
    "CuadrantePunto(1, -2)"
   ]
  },
  {
   "cell_type": "markdown",
   "metadata": {},
   "source": [
    "# Ejercicio 4\n",
    "Escribe una secuencia de instrucciones que permitan leer dos números enteros y muestre el cociente de la división entera y el resto."
   ]
  },
  {
   "cell_type": "code",
   "execution_count": 38,
   "metadata": {},
   "outputs": [],
   "source": [
    "#Funcion que muestra el cociente entero de la division y el resto de la division entre dos numeros\n",
    "def CocienteResto(x, y):\n",
    "    cociente = x // y\n",
    "    resto = x % y\n",
    "    return (cociente, resto)"
   ]
  },
  {
   "cell_type": "code",
   "execution_count": 41,
   "metadata": {},
   "outputs": [
    {
     "data": {
      "text/plain": [
       "(2, 1)"
      ]
     },
     "execution_count": 41,
     "metadata": {},
     "output_type": "execute_result"
    }
   ],
   "source": [
    "CocienteResto(7,3)"
   ]
  },
  {
   "cell_type": "markdown",
   "metadata": {},
   "source": [
    "# Ejercicio 5\n",
    "Escribe una secuencia de instrucciones que permitan leer un número entero es cuadrado perfecto o no (piensa la mejor forma de hacerlo con lo que has aprendido hasta ahora)"
   ]
  },
  {
   "cell_type": "code",
   "execution_count": 42,
   "metadata": {},
   "outputs": [
    {
     "data": {
      "text/plain": [
       "8.0"
      ]
     },
     "execution_count": 42,
     "metadata": {},
     "output_type": "execute_result"
    }
   ],
   "source": [
    "64/8"
   ]
  },
  {
   "cell_type": "code",
   "execution_count": 43,
   "metadata": {},
   "outputs": [
    {
     "data": {
      "text/plain": [
       "64"
      ]
     },
     "execution_count": 43,
     "metadata": {},
     "output_type": "execute_result"
    }
   ],
   "source": [
    "8*8"
   ]
  },
  {
   "cell_type": "code",
   "execution_count": 44,
   "metadata": {},
   "outputs": [
    {
     "data": {
      "text/plain": [
       "0"
      ]
     },
     "execution_count": 44,
     "metadata": {},
     "output_type": "execute_result"
    }
   ],
   "source": [
    "64%8"
   ]
  },
  {
   "cell_type": "code",
   "execution_count": 65,
   "metadata": {},
   "outputs": [],
   "source": [
    "#Saber si un numero es cuadrado perfecto\n",
    "def CuadradoPerfecto(x):\n",
    "    raiz = math.sqrt(x)\n",
    "    dec, ent = math.modf(raiz)\n",
    "    if dec == 0:\n",
    "        return \"Es cuadrado perfecto\"\n",
    "    else:\n",
    "        return \"No es cuadrado perfecto\"\n",
    "    "
   ]
  },
  {
   "cell_type": "code",
   "execution_count": 69,
   "metadata": {},
   "outputs": [
    {
     "data": {
      "text/plain": [
       "'No es cuadrado perfecto'"
      ]
     },
     "execution_count": 69,
     "metadata": {},
     "output_type": "execute_result"
    }
   ],
   "source": [
    "CuadradoPerfecto(32)"
   ]
  },
  {
   "cell_type": "markdown",
   "metadata": {},
   "source": [
    "# Ejercicio 6\n",
    "Escribe una expresión que permita determinar si un número entero positivo puede corresponder a un año bisiesto o no. Se consideran años bisiestos aquellos cuyo número es divisible por cuatro excepto los años que son múltiplos de 100, a no ser que lo sean de 400 (por ejemplo el año 2000 fue bisiesto pero el 2100 no lo será)."
   ]
  },
  {
   "cell_type": "code",
   "execution_count": 75,
   "metadata": {},
   "outputs": [],
   "source": [
    "# Funcion que me permite saber si un anio es biciesto\n",
    "def Biciesto(anio):\n",
    "    if anio % 4 == 0:\n",
    "        if anio % 100 == 0:\n",
    "            if anio % 400 == 0:\n",
    "                return \"Es un anio biciesto\"\n",
    "            else:\n",
    "                return \"No es un anio biciesto\"\n",
    "        else:\n",
    "            return \"Es un anio biciesto\"\n",
    "    else:\n",
    "        return \"No es un anio biciesto\""
   ]
  },
  {
   "cell_type": "code",
   "execution_count": 92,
   "metadata": {},
   "outputs": [
    {
     "data": {
      "text/plain": [
       "'No es un anio biciesto'"
      ]
     },
     "execution_count": 92,
     "metadata": {},
     "output_type": "execute_result"
    }
   ],
   "source": [
    "Biciesto(2026)"
   ]
  },
  {
   "cell_type": "markdown",
   "metadata": {},
   "source": [
    "# Ejercicio 7\n",
    "Busca la imagen de un tablero de ajedrez en Google y fíjate en la nomenclatura de las casillas. Escribe una expresión lea una letra y un número de teclado correspondiente a una casilla de un tablero de ajedrez y nos indique si esta casilla es negra o blanca."
   ]
  },
  {
   "cell_type": "code",
   "execution_count": 136,
   "metadata": {},
   "outputs": [],
   "source": [
    "#Color de la celda dentro del tablero de ajedrez\n",
    "def TableroAjedrez(letra, numero):\n",
    "    if numero >= 1 and numero <= 8:\n",
    "        if letra == \"a\":\n",
    "            if numero % 2 ==0:\n",
    "                return \"Blanco\"\n",
    "            else:\n",
    "                return \"Negro\" \n",
    "        else: \n",
    "            if letra == \"b\":\n",
    "                if numero % 2 ==0:\n",
    "                    return \"Negro\"\n",
    "                else:\n",
    "                    return \"Blanco\"\n",
    "            else:\n",
    "                if letra == \"c\":\n",
    "                    if numero % 2 == 0:\n",
    "                        return \"Blanco\"\n",
    "                    else:\n",
    "                        return \"Negro\"\n",
    "                else:\n",
    "                    if letra == \"d\":\n",
    "                        if numero % 2 == 0:\n",
    "                            return \"Negro\"\n",
    "                        else:\n",
    "                            return \"Blanco\"\n",
    "                    else:\n",
    "                        if letra == \"e\":\n",
    "                            if numero % 2 == 0:\n",
    "                                return \"Blanco\"\n",
    "                            else:\n",
    "                                return \"Negro\"\n",
    "                        else:\n",
    "                            if letra == \"f\":\n",
    "                                if numero % 2 == 0:\n",
    "                                    return \"Negro\"\n",
    "                                else:\n",
    "                                    return \"Blanco\"\n",
    "                            else:\n",
    "                                if letra == \"g\":\n",
    "                                    if numero % 2 == 0:\n",
    "                                        return \"Blanco\"\n",
    "                                    else:\n",
    "                                        return \"Negro\"\n",
    "                                else:\n",
    "                                    if letra == \"h\":\n",
    "                                        if numero % 2 == 0:\n",
    "                                            return \"Negro\"\n",
    "                                        else:\n",
    "                                            return \"Blanco\"\n",
    "                                    else:\n",
    "                                        return \"No existe coordenada\"\n",
    "    else:\n",
    "        return \"No existe coordenada\""
   ]
  },
  {
   "cell_type": "code",
   "execution_count": 144,
   "metadata": {},
   "outputs": [
    {
     "data": {
      "text/plain": [
       "'No existe coordenada'"
      ]
     },
     "execution_count": 144,
     "metadata": {},
     "output_type": "execute_result"
    }
   ],
   "source": [
    "TableroAjedrez(\"e\",10)"
   ]
  }
 ],
 "metadata": {
  "kernelspec": {
   "display_name": "Python 3",
   "language": "python",
   "name": "python3"
  },
  "language_info": {
   "codemirror_mode": {
    "name": "ipython",
    "version": 3
   },
   "file_extension": ".py",
   "mimetype": "text/x-python",
   "name": "python",
   "nbconvert_exporter": "python",
   "pygments_lexer": "ipython3",
   "version": "3.7.9"
  }
 },
 "nbformat": 4,
 "nbformat_minor": 4
}
