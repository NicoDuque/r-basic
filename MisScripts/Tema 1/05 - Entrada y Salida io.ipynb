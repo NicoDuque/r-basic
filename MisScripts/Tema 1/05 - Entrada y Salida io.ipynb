{
 "cells": [
  {
   "cell_type": "markdown",
   "metadata": {},
   "source": [
    "# Entrada y salida de datos (Input / output)"
   ]
  },
  {
   "cell_type": "code",
   "execution_count": 1,
   "metadata": {},
   "outputs": [
    {
     "name": "stdout",
     "output_type": "stream",
     "text": [
      "Hola Mundo\n"
     ]
    }
   ],
   "source": [
    "print(\"Hola Mundo\") #Salida de datos"
   ]
  },
  {
   "cell_type": "code",
   "execution_count": 7,
   "metadata": {},
   "outputs": [
    {
     "name": "stdout",
     "output_type": "stream",
     "text": [
      "2\n",
      "El valor de la variable es: 2\n"
     ]
    }
   ],
   "source": [
    "x=2\n",
    "print(x)\n",
    "print(\"El valor de la variable es: \"+str(x)) #Python no puede combinar enteros con cadenas entonces toca realizar un casting."
   ]
  },
  {
   "cell_type": "code",
   "execution_count": 9,
   "metadata": {},
   "outputs": [
    {
     "name": "stdout",
     "output_type": "stream",
     "text": [
      "Introduce tu nombreNicolas\n"
     ]
    }
   ],
   "source": [
    "nombre = input(\"Introduce tu nombre\") #Todo lo ingresado por input sera String"
   ]
  },
  {
   "cell_type": "code",
   "execution_count": 11,
   "metadata": {},
   "outputs": [
    {
     "name": "stdout",
     "output_type": "stream",
     "text": [
      "Edad23\n"
     ]
    }
   ],
   "source": [
    "edad = input(\"Edad\")"
   ]
  },
  {
   "cell_type": "code",
   "execution_count": 12,
   "metadata": {},
   "outputs": [
    {
     "name": "stdout",
     "output_type": "stream",
     "text": [
      "Nicolas tiene 23 anios\n"
     ]
    }
   ],
   "source": [
    "print(nombre + \" tiene \"+edad+\" anios\")"
   ]
  },
  {
   "cell_type": "code",
   "execution_count": 16,
   "metadata": {},
   "outputs": [
    {
     "name": "stdout",
     "output_type": "stream",
     "text": [
      "Introduce un numero5\n"
     ]
    }
   ],
   "source": [
    "numero = int(input(\"Introduce un numero\")) #Se casteo el String ingresado a entero."
   ]
  },
  {
   "cell_type": "code",
   "execution_count": 17,
   "metadata": {},
   "outputs": [
    {
     "name": "stdout",
     "output_type": "stream",
     "text": [
      "5\n"
     ]
    }
   ],
   "source": [
    "print(numero)"
   ]
  },
  {
   "cell_type": "markdown",
   "metadata": {},
   "source": [
    "# Operadores de decision"
   ]
  },
  {
   "cell_type": "code",
   "execution_count": 18,
   "metadata": {},
   "outputs": [
    {
     "name": "stdout",
     "output_type": "stream",
     "text": [
      "Escribe un numero5\n"
     ]
    }
   ],
   "source": [
    "x = int(input(\"Escribe un numero\"))"
   ]
  },
  {
   "cell_type": "code",
   "execution_count": 22,
   "metadata": {},
   "outputs": [
    {
     "name": "stdout",
     "output_type": "stream",
     "text": [
      "Has escrito el numero 5\n"
     ]
    }
   ],
   "source": [
    "if x == 5:  #Se debe poner los dos puntos para indicar que hacia abajo siguen mas instrucciones\n",
    "    print(\"Has escrito el numero 5\") #Utilizar el tabulador para indicar que se ejecuta despues de la instruccion de arriba si el valor es verdadero."
   ]
  },
  {
   "cell_type": "code",
   "execution_count": 28,
   "metadata": {},
   "outputs": [
    {
     "name": "stdout",
     "output_type": "stream",
     "text": [
      "Escribe un numero2\n",
      "Has escrito un numero menor que 5\n"
     ]
    }
   ],
   "source": [
    "x = int(input(\"Escribe un numero\"))\n",
    "if x < 5:\n",
    "    print (\"Has escrito un numero menor que 5\")\n",
    "elif x < 10:\n",
    "    print(\"Has escrito un numero que esta entre 5 y 10\")\n",
    "else:\n",
    "    print(\"Has escrito un numero mayor a 10\")\n",
    "        "
   ]
  },
  {
   "cell_type": "code",
   "execution_count": 30,
   "metadata": {},
   "outputs": [
    {
     "name": "stdout",
     "output_type": "stream",
     "text": [
      "Escribe un numero8\n",
      "Has escrito un numero entre 0 y 10\n"
     ]
    }
   ],
   "source": [
    "x = int(input(\"Escribe un numero\"))\n",
    "if x > 0 and x <10:\n",
    "    print(\"Has escrito un numero entre 0 y 10\")"
   ]
  },
  {
   "cell_type": "code",
   "execution_count": 33,
   "metadata": {},
   "outputs": [
    {
     "name": "stdout",
     "output_type": "stream",
     "text": [
      "Escribe un numero12\n",
      "El numero escrito no se encuentra dentro del rango [0-10]\n"
     ]
    }
   ],
   "source": [
    "x = int(input(\"Escribe un numero\"))\n",
    "if x < 0 or x > 10:\n",
    "    print(\"El numero escrito no se encuentra dentro del rango [0-10]\")"
   ]
  },
  {
   "cell_type": "code",
   "execution_count": null,
   "metadata": {},
   "outputs": [],
   "source": []
  }
 ],
 "metadata": {
  "kernelspec": {
   "display_name": "Python 3",
   "language": "python",
   "name": "python3"
  },
  "language_info": {
   "codemirror_mode": {
    "name": "ipython",
    "version": 3
   },
   "file_extension": ".py",
   "mimetype": "text/x-python",
   "name": "python",
   "nbconvert_exporter": "python",
   "pygments_lexer": "ipython3",
   "version": "3.7.9"
  }
 },
 "nbformat": 4,
 "nbformat_minor": 4
}
